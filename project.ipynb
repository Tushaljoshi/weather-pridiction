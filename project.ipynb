{
 "cells": [
  {
   "cell_type": "code",
   "execution_count": 1,
   "metadata": {},
   "outputs": [],
   "source": [
    "import pandas as pd\n",
    "\n",
    "# Load the main dataset\n",
    "weather_data = pd.read_csv(r'C:\\Users\\Admin\\OneDrive\\Documents\\Desktop\\New Folder\\archive\\weather_prediction_dataset.csv')\n",
    "\n",
    "# Load the label dataset (BBQ labels)\n",
    "labels_data = pd.read_csv(r'C:\\Users\\Admin\\OneDrive\\Documents\\Desktop\\New Folder\\archive\\weather_prediction_bbq_labels.csv')"
   ]
  },
  {
   "cell_type": "code",
   "execution_count": 2,
   "metadata": {},
   "outputs": [
    {
     "name": "stdout",
     "output_type": "stream",
     "text": [
      "Index(['DATE', 'MONTH', 'BASEL_cloud_cover', 'BASEL_humidity',\n",
      "       'BASEL_pressure', 'BASEL_global_radiation', 'BASEL_precipitation',\n",
      "       'BASEL_sunshine', 'BASEL_temp_mean', 'BASEL_temp_min',\n",
      "       ...\n",
      "       'STOCKHOLM_temp_min', 'STOCKHOLM_temp_max', 'TOURS_wind_speed',\n",
      "       'TOURS_humidity', 'TOURS_pressure', 'TOURS_global_radiation',\n",
      "       'TOURS_precipitation', 'TOURS_temp_mean', 'TOURS_temp_min',\n",
      "       'TOURS_temp_max'],\n",
      "      dtype='object', length=165)\n",
      "Index(['DATE', 'BASEL_BBQ_weather', 'BUDAPEST_BBQ_weather', 'DE_BBQ_weather',\n",
      "       'DRESDEN_BBQ_weather', 'DUSSELDORF_BBQ_weather', 'HEATHROW_BBQ_weather',\n",
      "       'KASSEL_BBQ_weather', 'LJUBLJANA_BBQ_weather', 'MAASTRICHT_BBQ_weather',\n",
      "       'MALMO_BBQ_weather', 'MONTELIMAR_BBQ_weather', 'MUENCHEN_BBQ_weather',\n",
      "       'OSLO_BBQ_weather', 'PERPIGNAN_BBQ_weather', 'SONNBLICK_BBQ_weather',\n",
      "       'STOCKHOLM_BBQ_weather', 'TOURS_BBQ_weather'],\n",
      "      dtype='object')\n"
     ]
    }
   ],
   "source": [
    "# Check for common columns\n",
    "print(weather_data.columns)\n",
    "print(labels_data.columns)"
   ]
  },
  {
   "cell_type": "code",
   "execution_count": 3,
   "metadata": {},
   "outputs": [
    {
     "name": "stdout",
     "output_type": "stream",
     "text": [
      "       DATE  MONTH  BASEL_cloud_cover  BASEL_humidity  BASEL_pressure  \\\n",
      "0  20000101      1                  8            0.89          1.0286   \n",
      "1  20000102      1                  8            0.87          1.0318   \n",
      "2  20000103      1                  5            0.81          1.0314   \n",
      "3  20000104      1                  7            0.79          1.0262   \n",
      "4  20000105      1                  5            0.90          1.0246   \n",
      "\n",
      "   BASEL_global_radiation  BASEL_precipitation  BASEL_sunshine  \\\n",
      "0                    0.20                 0.03             0.0   \n",
      "1                    0.25                 0.00             0.0   \n",
      "2                    0.50                 0.00             3.7   \n",
      "3                    0.63                 0.35             6.9   \n",
      "4                    0.51                 0.07             3.7   \n",
      "\n",
      "   BASEL_temp_mean  BASEL_temp_min  ...  LJUBLJANA_BBQ_weather  \\\n",
      "0              2.9             1.6  ...                  False   \n",
      "1              3.6             2.7  ...                  False   \n",
      "2              2.2             0.1  ...                  False   \n",
      "3              3.9             0.5  ...                  False   \n",
      "4              6.0             3.8  ...                  False   \n",
      "\n",
      "   MAASTRICHT_BBQ_weather  MALMO_BBQ_weather  MONTELIMAR_BBQ_weather  \\\n",
      "0                   False              False                   False   \n",
      "1                   False              False                   False   \n",
      "2                   False              False                   False   \n",
      "3                   False              False                   False   \n",
      "4                   False              False                   False   \n",
      "\n",
      "   MUENCHEN_BBQ_weather  OSLO_BBQ_weather  PERPIGNAN_BBQ_weather  \\\n",
      "0                 False             False                  False   \n",
      "1                 False             False                  False   \n",
      "2                 False             False                  False   \n",
      "3                 False             False                  False   \n",
      "4                 False             False                  False   \n",
      "\n",
      "   SONNBLICK_BBQ_weather  STOCKHOLM_BBQ_weather  TOURS_BBQ_weather  \n",
      "0                  False                  False              False  \n",
      "1                  False                  False              False  \n",
      "2                  False                  False              False  \n",
      "3                  False                  False              False  \n",
      "4                  False                  False              False  \n",
      "\n",
      "[5 rows x 182 columns]\n"
     ]
    }
   ],
   "source": [
    "# Merge the datasets on the common column (replace 'Date' with the actual column name)\n",
    "merged_data = pd.merge(weather_data, labels_data, on='DATE')\n",
    "# Check the merged data structure\n",
    "print(merged_data.head())"
   ]
  },
  {
   "cell_type": "markdown",
   "metadata": {},
   "source": [
    "Weather Parameters: These columns reflect the conditions that influence whether it's suitable for a BBQ. Key features include:\n",
    "\n",
    "#Temperature:\n",
    "BASEL_temp_mean\n",
    "BASEL_temp_min\n",
    "BASEL_temp_max\n",
    "\n",
    "#Humidity:\n",
    "BASEL_humidity\n",
    "\n",
    "#Pressure:\n",
    "BASEL_pressure\n",
    "\n",
    "#Precipitation:\n",
    "BASEL_precipitation\n",
    "Wind Speed:\n",
    "TOURS_wind_speed\n",
    "\n",
    "#Sunshine Duration:\n",
    "BASEL_sunshine\n",
    "Cloud Cover:\n",
    "BASEL_cloud_cover\n",
    "\n",
    "#Global Radiation:\n",
    "BASEL_global_radiation"
   ]
  },
  {
   "cell_type": "code",
   "execution_count": 4,
   "metadata": {},
   "outputs": [
    {
     "name": "stdout",
     "output_type": "stream",
     "text": [
      "Index(['DATE', 'MONTH', 'BASEL_cloud_cover', 'BASEL_humidity',\n",
      "       'BASEL_pressure', 'BASEL_global_radiation', 'BASEL_precipitation',\n",
      "       'BASEL_sunshine', 'BASEL_temp_mean', 'BASEL_temp_min',\n",
      "       ...\n",
      "       'LJUBLJANA_BBQ_weather', 'MAASTRICHT_BBQ_weather', 'MALMO_BBQ_weather',\n",
      "       'MONTELIMAR_BBQ_weather', 'MUENCHEN_BBQ_weather', 'OSLO_BBQ_weather',\n",
      "       'PERPIGNAN_BBQ_weather', 'SONNBLICK_BBQ_weather',\n",
      "       'STOCKHOLM_BBQ_weather', 'TOURS_BBQ_weather'],\n",
      "      dtype='object', length=182)\n"
     ]
    }
   ],
   "source": [
    "print(merged_data.columns)\n"
   ]
  },
  {
   "cell_type": "code",
   "execution_count": null,
   "metadata": {},
   "outputs": [],
   "source": [
    "# Check for missing values\n",
    "print(merged_data.isnull().sum())\n",
    "\n",
    "# Visualize missing data using a heatmap\n",
    "import seaborn as sns\n",
    "import matplotlib.pyplot as plt\n",
    "\n",
    "sns.heatmap(merged_data.isnull(), cbar=False, cmap='viridis')\n",
    "plt.show()"
   ]
  },
  {
   "cell_type": "code",
   "execution_count": 5,
   "metadata": {},
   "outputs": [
    {
     "name": "stdout",
     "output_type": "stream",
     "text": [
      "Index(['DATE', 'MONTH', 'BASEL_cloud_cover', 'BASEL_humidity',\n",
      "       'BASEL_pressure', 'BASEL_global_radiation', 'BASEL_precipitation',\n",
      "       'BASEL_sunshine', 'BASEL_temp_mean', 'BASEL_temp_min',\n",
      "       ...\n",
      "       'LJUBLJANA_BBQ_weather', 'MAASTRICHT_BBQ_weather', 'MALMO_BBQ_weather',\n",
      "       'MONTELIMAR_BBQ_weather', 'MUENCHEN_BBQ_weather', 'OSLO_BBQ_weather',\n",
      "       'PERPIGNAN_BBQ_weather', 'SONNBLICK_BBQ_weather',\n",
      "       'STOCKHOLM_BBQ_weather', 'TOURS_BBQ_weather'],\n",
      "      dtype='object', length=182)\n"
     ]
    }
   ],
   "source": [
    "# Check the available columns in the dataset\n",
    "print(merged_data.columns)\n",
    "\n",
    "# Fill missing numerical values with the mean for the correct columns\n",
    "merged_data['BASEL_temp_mean'] = merged_data['BASEL_temp_mean'].fillna(merged_data['BASEL_temp_mean'].mean())\n",
    "merged_data['BASEL_humidity'] = merged_data['BASEL_humidity'].fillna(merged_data['BASEL_humidity'].mean())\n",
    "merged_data['TOURS_wind_speed'] = merged_data['TOURS_wind_speed'].fillna(merged_data['TOURS_wind_speed'].mean())"
   ]
  },
  {
   "cell_type": "code",
   "execution_count": 7,
   "metadata": {},
   "outputs": [],
   "source": [
    "from sklearn.preprocessing import LabelEncoder\n",
    "label_encoder = LabelEncoder()\n",
    "\n",
    "# Replace 'Rain' with the correct column name\n",
    "merged_data['BASEL_precipitation_encoded'] = label_encoder.fit_transform(merged_data['BASEL_precipitation'])"
   ]
  },
  {
   "cell_type": "code",
   "execution_count": 15,
   "metadata": {},
   "outputs": [],
   "source": [
    "X = merged_data[['BASEL_temp_mean', 'BASEL_temp_min', 'BASEL_temp_max', \n",
    "                 'BASEL_humidity', 'BASEL_pressure', 'BASEL_precipitation', \n",
    "                 'TOURS_wind_speed', 'BASEL_sunshine', 'BASEL_cloud_cover', \n",
    "                 'BASEL_global_radiation', 'BUDAPEST_temp_mean', \n",
    "                 'STOCKHOLM_temp_mean']]  # Include more city data if relevant\n",
    "\n",
    "y = merged_data[['BASEL_BBQ_weather', 'BUDAPEST_BBQ_weather', 'DRESDEN_BBQ_weather']]  # Adjust based on your focus\n"
   ]
  },
  {
   "cell_type": "code",
   "execution_count": 16,
   "metadata": {},
   "outputs": [
    {
     "name": "stdout",
     "output_type": "stream",
     "text": [
      "Training set size: (2923, 12)\n",
      "Testing set size: (731, 12)\n"
     ]
    }
   ],
   "source": [
    "from sklearn.model_selection import train_test_split\n",
    "X_train, X_test, y_train, y_test = train_test_split(X, y, test_size=0.2, random_state=42)\n",
    "print(f'Training set size: {X_train.shape}')\n",
    "print(f'Testing set size: {X_test.shape}')"
   ]
  },
  {
   "cell_type": "code",
   "execution_count": 17,
   "metadata": {},
   "outputs": [
    {
     "name": "stdout",
     "output_type": "stream",
     "text": [
      "              precision    recall  f1-score   support\n",
      "\n",
      "       False       1.00      0.96      0.98       542\n",
      "        True       0.89      0.99      0.94       189\n",
      "\n",
      "    accuracy                           0.97       731\n",
      "   macro avg       0.94      0.97      0.96       731\n",
      "weighted avg       0.97      0.97      0.97       731\n",
      "\n"
     ]
    }
   ],
   "source": [
    "from sklearn.naive_bayes import GaussianNB\n",
    "from sklearn.metrics import classification_report\n",
    "\n",
    "# Instantiate the model\n",
    "model = GaussianNB()\n",
    "\n",
    "# Train the model (use one target variable for demonstration)\n",
    "model.fit(X_train, y_train['BASEL_BBQ_weather'])\n",
    "\n",
    "# Make predictions\n",
    "y_pred = model.predict(X_test)\n",
    "\n",
    "# Evaluate the model\n",
    "print(classification_report(y_test['BASEL_BBQ_weather'], y_pred))\n"
   ]
  }
 ],
 "metadata": {
  "kernelspec": {
   "display_name": "base",
   "language": "python",
   "name": "python3"
  },
  "language_info": {
   "codemirror_mode": {
    "name": "ipython",
    "version": 3
   },
   "file_extension": ".py",
   "mimetype": "text/x-python",
   "name": "python",
   "nbconvert_exporter": "python",
   "pygments_lexer": "ipython3",
   "version": "3.12.4"
  }
 },
 "nbformat": 4,
 "nbformat_minor": 2
}
